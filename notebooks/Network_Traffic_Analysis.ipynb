{
  "cells": [
    {
      "cell_type": "code",
      "execution_count": null,
      "metadata": {
        "vscode": {
          "languageId": "plaintext"
        }
      },
      "outputs": [],
      "source": [
        "# Network Traffic Congestion Analysis 🚦\n",
        "\n",
        "This notebook demonstrates how to use the Network Traffic Congestion Predictor for data analysis and model evaluation.\n",
        "\n",
        "## Table of Contents\n",
        "1. [Setup and Data Loading](#setup)\n",
        "2. [Data Exploration](#exploration)\n",
        "3. [Model Training and Evaluation](#model)\n",
        "4. [Interactive Predictions](#predictions)\n"
      ]
    },
    {
      "cell_type": "code",
      "execution_count": null,
      "metadata": {
        "vscode": {
          "languageId": "plaintext"
        }
      },
      "outputs": [],
      "source": [
        "## 1. Setup and Data Loading <a name=\"setup\"></a>\n",
        "\n",
        "First, let's import the necessary libraries and load our dataset.\n"
      ]
    },
    {
      "cell_type": "code",
      "execution_count": null,
      "metadata": {},
      "outputs": [],
      "source": [
        "import sys\n",
        "import os\n",
        "import pandas as pd\n",
        "import numpy as np\n",
        "import matplotlib.pyplot as plt\n",
        "import seaborn as sns\n",
        "from sklearn.metrics import classification_report, confusion_matrix\n",
        "\n",
        "# Add project root to path\n",
        "sys.path.append('..')\n",
        "\n",
        "# Import project modules\n",
        "from core.trainer import TrafficModelTrainer\n",
        "from core.predictor import TrafficPredictor\n"
      ]
    },
    {
      "cell_type": "code",
      "execution_count": null,
      "metadata": {},
      "outputs": [],
      "source": [
        "# Load the dataset\n",
        "df = pd.read_csv('../assets/datasets/synthetic_network_data.csv')\n",
        "df.head()\n"
      ]
    },
    {
      "cell_type": "code",
      "execution_count": null,
      "metadata": {},
      "outputs": [],
      "source": [
        "## 2. Data Exploration <a name=\"exploration\"></a>\n",
        "\n",
        "Let's analyze our network traffic data to understand patterns and relationships.\n"
      ]
    },
    {
      "cell_type": "code",
      "execution_count": null,
      "metadata": {},
      "outputs": [],
      "source": [
        "# Basic statistics\n",
        "print(\"Dataset Shape:\", df.shape)\n",
        "print(\"\\nBasic Statistics:\")\n",
        "df.describe()\n"
      ]
    },
    {
      "cell_type": "code",
      "execution_count": null,
      "metadata": {},
      "outputs": [],
      "source": [
        "# Protocol distribution\n",
        "plt.figure(figsize=(10, 6))\n",
        "sns.countplot(data=df, x='protocol')\n",
        "plt.title('Distribution of Network Protocols')\n",
        "plt.show()\n"
      ]
    },
    {
      "cell_type": "code",
      "execution_count": null,
      "metadata": {},
      "outputs": [],
      "source": [
        "# Service distribution\n",
        "plt.figure(figsize=(12, 6))\n",
        "sns.countplot(data=df, x='service', order=df['service'].value_counts().index)\n",
        "plt.xticks(rotation=45)\n",
        "plt.title('Distribution of Network Services')\n",
        "plt.show()\n"
      ]
    },
    {
      "cell_type": "code",
      "execution_count": null,
      "metadata": {},
      "outputs": [],
      "source": [
        "## 3. Model Training and Evaluation <a name=\"model\"></a>\n",
        "\n",
        "Now let's train our model and evaluate its performance.\n"
      ]
    },
    {
      "cell_type": "code",
      "execution_count": null,
      "metadata": {},
      "outputs": [],
      "source": [
        "# Train and save the model\n",
        "data_path = os.path.join(os.path.dirname(os.path.dirname(__file__)), 'assets/datasets/synthetic_network_data.csv')\n",
        "trainer = TrafficModelTrainer()\n",
        "metrics = trainer.train(data_path)\n",
        "\n",
        "# Load the trained model for predictions\n",
        "predictor = TrafficPredictor()\n",
        "input_data = df.drop('congestion', axis=1).to_dict('records')[0]\n",
        "result = predictor.predict(input_data)\n",
        "y_pred = [result['congestion']]\n",
        "y = df['congestion']\n",
        "\n",
        "# Print classification report\n",
        "print(\"Classification Report:\")\n",
        "print(classification_report(y, y_pred))\n"
      ]
    },
    {
      "cell_type": "code",
      "execution_count": null,
      "metadata": {},
      "outputs": [],
      "source": [
        "# Plot confusion matrix\n",
        "plt.figure(figsize=(8, 6))\n",
        "sns.heatmap(confusion_matrix(y, y_pred), annot=True, fmt='d', cmap='Blues')\n",
        "plt.title('Confusion Matrix')\n",
        "plt.xlabel('Predicted')\n",
        "plt.ylabel('Actual')\n",
        "plt.show()\n"
      ]
    },
    {
      "cell_type": "code",
      "execution_count": null,
      "metadata": {},
      "outputs": [],
      "source": [
        "## 4. Interactive Predictions <a name=\"predictions\"></a>\n",
        "\n",
        "Let's create an interactive function to make predictions on new data.\n"
      ]
    },
    {
      "cell_type": "code",
      "execution_count": null,
      "metadata": {},
      "outputs": [],
      "source": [
        "def predict_congestion(duration, src_bytes, dst_bytes, packet_count, hour, protocol, service):\n",
        "    \"\"\"Make a prediction for network congestion.\"\"\"\n",
        "    predictor = TrafficPredictor()\n",
        "    \n",
        "    # Create input data\n",
        "    input_data = {\n",
        "        'duration': duration,\n",
        "        'src_bytes': src_bytes,\n",
        "        'dst_bytes': dst_bytes,\n",
        "        'packet_count': packet_count,\n",
        "        'hour': hour,\n",
        "        'protocol': protocol,\n",
        "        'service': service\n",
        "    }\n",
        "    \n",
        "    # Get prediction\n",
        "    return predictor.predict(input_data)\n"
      ]
    },
    {
      "cell_type": "code",
      "execution_count": null,
      "metadata": {},
      "outputs": [],
      "source": [
        "# Example prediction\n",
        "result = predict_congestion(\n",
        "    duration=10.5,\n",
        "    src_bytes=5120,\n",
        "    dst_bytes=2400,\n",
        "    packet_count=65,\n",
        "    hour=9,\n",
        "    protocol='TCP',\n",
        "    service='http'\n",
        ")\n",
        "\n",
        "print(\"Prediction Result:\")\n",
        "print(f\"Congestion: {result['congestion']}\")\n",
        "print(f\"Probability: {result['probability']:.2f}\")\n"
      ]
    }
  ],
  "metadata": {
    "language_info": {
      "name": "python"
    }
  },
  "nbformat": 4,
  "nbformat_minor": 2
}
